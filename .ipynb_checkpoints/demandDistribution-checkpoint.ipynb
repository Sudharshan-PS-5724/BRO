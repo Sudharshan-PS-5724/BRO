# modularize this

import pandas as pd
from glob import glob

def create_demand_distribution(excel_files, filters):
    # Combine data from all Excel sheets into a single DataFrame
    all_data = pd.DataFrame()
    for file in excel_files:
        df = pd.read_excel(file)  # Read each Excel file
        all_data = pd.concat([all_data, df], ignore_index=True)  # Append to the main DataFrame

    # Apply filters for year and college
    filtered_data = all_data[
        (all_data['YEAR'].isin(filters['YEAR'])) & 
        (all_data['COLLEGE'].isin(filters['COLLEGE']))
    ]

    # Group by bus stop and count the number of students
    demand_distribution = filtered_data.groupby('BUSTOP').size().to_dict()

    return demand_distribution

def create_location_coordinates(file_path):
    """
    Input: Relative path of the excel sheet which has the lat, long and location details
    Output: coordinates_dict
    {location: (lat, long)}
    """
    # Load the Excel file
    df = pd.read_excel(file_path)  # Replace with your file name

    # Create a dictionary where the key is 'Location' and the value is a tuple (Latitude, Longitude)
    coordinates_dict = df.set_index("Location")[["Latitude", "Longitude"]].apply(tuple, axis=1).to_dict()

    # Print the dictionary
    return coordinates_dict

def create_routes_list(route_list_file_path):
    # Read the Excel sheet
    df = pd.read_excel(route_list_file_path)

    # Assuming the columns are named 'Bus Stop' and 'Route Number'
    # Group by 'Route Number' and maintain the order
    route_dict = df.groupby("Route Number")["Bus Stop"].apply(list)

    # Convert to a list of lists
    route_list = route_dict.tolist()

    # Print the result
    return route_list



folder_path = "dataset/"  # Make sure this points to your folder
excel_files = glob(folder_path + "*.xlsx")

# Define filters
filters = {
    'YEAR': ["first"], # 2nd and 3rd year students
    'COLLEGE': ['SSN']  # SSN, SNU, Faculty
}

if __name__ == "__main__":
    # A function which generates a dictionary of location and corresponding coordinates
    coordinates_file_path = "dataset\\allRoutesLatLong.xlsx"
    coordinates_dict = create_location_coordinates(coordinates_file_path)
    print(coordinates_dict)

    # A function which generates list of routes
    route_list_file_path = "dataset\\routesList.xlsx"
    route_list = create_routes_list(route_list_file_path)
    print(route_list)

    demand_distribution = create_demand_distribution(excel_files, filters)
    print(demand_distribution)
